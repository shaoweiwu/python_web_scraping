{
 "cells": [
  {
   "cell_type": "code",
   "execution_count": 123,
   "id": "31de2866",
   "metadata": {},
   "outputs": [],
   "source": [
    "import pandas as pd\n",
    "import numpy as np\n",
    "\n",
    "import time\n",
    "\n",
    "from selenium import webdriver\n",
    "from selenium.webdriver.edge.service import Service as EdgeService\n",
    "from selenium.webdriver.common.by import By\n",
    "from selenium.webdriver.support.ui import Select\n",
    "\n",
    "from bs4 import BeautifulSoup as bs"
   ]
  },
  {
   "cell_type": "code",
   "execution_count": 126,
   "id": "8056a33f",
   "metadata": {},
   "outputs": [],
   "source": [
    "edge_driver_path=\"C:/Users/User/Python_Learning/msedgedriver.exe\"\n",
    "\n",
    "driver = webdriver.Edge(service=EdgeService(edge_driver_path))"
   ]
  },
  {
   "cell_type": "code",
   "execution_count": 127,
   "id": "312e9999",
   "metadata": {},
   "outputs": [],
   "source": [
    "def visit():\n",
    "    url = \"https://www.taiwanlottery.com.tw/lotto/lotto649/history.aspx\"\n",
    "    driver.get(url)\n"
   ]
  },
  {
   "cell_type": "code",
   "execution_count": 7,
   "id": "5f996596",
   "metadata": {},
   "outputs": [],
   "source": [
    "html = driver.page_source\n",
    "soup = bs(html, \"lxml\")\n"
   ]
  },
  {
   "cell_type": "code",
   "execution_count": 6,
   "id": "80691e8a",
   "metadata": {},
   "outputs": [
    {
     "name": "stdout",
     "output_type": "stream",
     "text": [
      "112000086\n",
      "112/09/15\n"
     ]
    }
   ],
   "source": [
    "issueNumber = soup.find('span', id='Lotto649Control_history_dlQuery_L649_DrawTerm_0' )\n",
    "print(issueNumber.text)\n",
    "issueDate = soup.find('span', id='Lotto649Control_history_dlQuery_L649_DDate_0')\n",
    "print(issueDate.text)"
   ]
  },
  {
   "cell_type": "code",
   "execution_count": 20,
   "id": "2a52931f",
   "metadata": {},
   "outputs": [
    {
     "data": {
      "text/plain": [
       "[<span id=\"Lotto649Control_history_dlQuery_No1_0\">12</span>]"
      ]
     },
     "execution_count": 20,
     "metadata": {},
     "output_type": "execute_result"
    }
   ],
   "source": [
    "number = soup.find_all('span', id='Lotto649Control_history_dlQuery_No1_0')\n",
    "number"
   ]
  },
  {
   "cell_type": "code",
   "execution_count": 27,
   "id": "5d449d0f",
   "metadata": {},
   "outputs": [
    {
     "ename": "TypeError",
     "evalue": "Object of type Tag is not JSON serializable",
     "output_type": "error",
     "traceback": [
      "\u001b[1;31m---------------------------------------------------------------------------\u001b[0m",
      "\u001b[1;31mTypeError\u001b[0m                                 Traceback (most recent call last)",
      "Cell \u001b[1;32mIn[27], line 3\u001b[0m\n\u001b[0;32m      1\u001b[0m issueHistory \u001b[38;5;241m=\u001b[39m soup\u001b[38;5;241m.\u001b[39mfind(\u001b[38;5;124m\"\u001b[39m\u001b[38;5;124minput\u001b[39m\u001b[38;5;124m\"\u001b[39m, \u001b[38;5;28mid\u001b[39m\u001b[38;5;241m=\u001b[39m\u001b[38;5;124m'\u001b[39m\u001b[38;5;124mLotto649Control_history_radYM\u001b[39m\u001b[38;5;124m'\u001b[39m)\n\u001b[0;32m      2\u001b[0m \u001b[38;5;28;01mif\u001b[39;00m issueHistory:\n\u001b[1;32m----> 3\u001b[0m     \u001b[43mdriver\u001b[49m\u001b[38;5;241;43m.\u001b[39;49m\u001b[43mexecute_script\u001b[49m\u001b[43m(\u001b[49m\u001b[38;5;124;43m\"\u001b[39;49m\u001b[38;5;124;43marguments[0].click();\u001b[39;49m\u001b[38;5;124;43m\"\u001b[39;49m\u001b[43m,\u001b[49m\u001b[43m \u001b[49m\u001b[43missueHistory\u001b[49m\u001b[43m)\u001b[49m\n",
      "File \u001b[1;32m~\\anaconda3\\envs\\python_learn\\lib\\site-packages\\selenium\\webdriver\\remote\\webdriver.py:500\u001b[0m, in \u001b[0;36mWebDriver.execute_script\u001b[1;34m(self, script, *args)\u001b[0m\n\u001b[0;32m    497\u001b[0m converted_args \u001b[38;5;241m=\u001b[39m \u001b[38;5;28mlist\u001b[39m(args)\n\u001b[0;32m    498\u001b[0m command \u001b[38;5;241m=\u001b[39m Command\u001b[38;5;241m.\u001b[39mW3C_EXECUTE_SCRIPT\n\u001b[1;32m--> 500\u001b[0m \u001b[38;5;28;01mreturn\u001b[39;00m \u001b[38;5;28;43mself\u001b[39;49m\u001b[38;5;241;43m.\u001b[39;49m\u001b[43mexecute\u001b[49m\u001b[43m(\u001b[49m\u001b[43mcommand\u001b[49m\u001b[43m,\u001b[49m\u001b[43m \u001b[49m\u001b[43m{\u001b[49m\u001b[38;5;124;43m\"\u001b[39;49m\u001b[38;5;124;43mscript\u001b[39;49m\u001b[38;5;124;43m\"\u001b[39;49m\u001b[43m:\u001b[49m\u001b[43m \u001b[49m\u001b[43mscript\u001b[49m\u001b[43m,\u001b[49m\u001b[43m \u001b[49m\u001b[38;5;124;43m\"\u001b[39;49m\u001b[38;5;124;43margs\u001b[39;49m\u001b[38;5;124;43m\"\u001b[39;49m\u001b[43m:\u001b[49m\u001b[43m \u001b[49m\u001b[43mconverted_args\u001b[49m\u001b[43m}\u001b[49m\u001b[43m)\u001b[49m[\u001b[38;5;124m\"\u001b[39m\u001b[38;5;124mvalue\u001b[39m\u001b[38;5;124m\"\u001b[39m]\n",
      "File \u001b[1;32m~\\anaconda3\\envs\\python_learn\\lib\\site-packages\\selenium\\webdriver\\remote\\webdriver.py:438\u001b[0m, in \u001b[0;36mWebDriver.execute\u001b[1;34m(self, driver_command, params)\u001b[0m\n\u001b[0;32m    435\u001b[0m     \u001b[38;5;28;01melif\u001b[39;00m \u001b[38;5;124m\"\u001b[39m\u001b[38;5;124msessionId\u001b[39m\u001b[38;5;124m\"\u001b[39m \u001b[38;5;129;01mnot\u001b[39;00m \u001b[38;5;129;01min\u001b[39;00m params:\n\u001b[0;32m    436\u001b[0m         params[\u001b[38;5;124m\"\u001b[39m\u001b[38;5;124msessionId\u001b[39m\u001b[38;5;124m\"\u001b[39m] \u001b[38;5;241m=\u001b[39m \u001b[38;5;28mself\u001b[39m\u001b[38;5;241m.\u001b[39msession_id\n\u001b[1;32m--> 438\u001b[0m response \u001b[38;5;241m=\u001b[39m \u001b[38;5;28;43mself\u001b[39;49m\u001b[38;5;241;43m.\u001b[39;49m\u001b[43mcommand_executor\u001b[49m\u001b[38;5;241;43m.\u001b[39;49m\u001b[43mexecute\u001b[49m\u001b[43m(\u001b[49m\u001b[43mdriver_command\u001b[49m\u001b[43m,\u001b[49m\u001b[43m \u001b[49m\u001b[43mparams\u001b[49m\u001b[43m)\u001b[49m\n\u001b[0;32m    439\u001b[0m \u001b[38;5;28;01mif\u001b[39;00m response:\n\u001b[0;32m    440\u001b[0m     \u001b[38;5;28mself\u001b[39m\u001b[38;5;241m.\u001b[39merror_handler\u001b[38;5;241m.\u001b[39mcheck_response(response)\n",
      "File \u001b[1;32m~\\anaconda3\\envs\\python_learn\\lib\\site-packages\\selenium\\webdriver\\remote\\remote_connection.py:288\u001b[0m, in \u001b[0;36mRemoteConnection.execute\u001b[1;34m(self, command, params)\u001b[0m\n\u001b[0;32m    286\u001b[0m \u001b[38;5;28;01mif\u001b[39;00m \u001b[38;5;28misinstance\u001b[39m(params, \u001b[38;5;28mdict\u001b[39m) \u001b[38;5;129;01mand\u001b[39;00m \u001b[38;5;124m\"\u001b[39m\u001b[38;5;124msessionId\u001b[39m\u001b[38;5;124m\"\u001b[39m \u001b[38;5;129;01min\u001b[39;00m params:\n\u001b[0;32m    287\u001b[0m     \u001b[38;5;28;01mdel\u001b[39;00m params[\u001b[38;5;124m\"\u001b[39m\u001b[38;5;124msessionId\u001b[39m\u001b[38;5;124m\"\u001b[39m]\n\u001b[1;32m--> 288\u001b[0m data \u001b[38;5;241m=\u001b[39m \u001b[43mutils\u001b[49m\u001b[38;5;241;43m.\u001b[39;49m\u001b[43mdump_json\u001b[49m\u001b[43m(\u001b[49m\u001b[43mparams\u001b[49m\u001b[43m)\u001b[49m\n\u001b[0;32m    289\u001b[0m url \u001b[38;5;241m=\u001b[39m \u001b[38;5;124mf\u001b[39m\u001b[38;5;124m\"\u001b[39m\u001b[38;5;132;01m{\u001b[39;00m\u001b[38;5;28mself\u001b[39m\u001b[38;5;241m.\u001b[39m_url\u001b[38;5;132;01m}\u001b[39;00m\u001b[38;5;132;01m{\u001b[39;00mpath\u001b[38;5;132;01m}\u001b[39;00m\u001b[38;5;124m\"\u001b[39m\n\u001b[0;32m    290\u001b[0m \u001b[38;5;28;01mreturn\u001b[39;00m \u001b[38;5;28mself\u001b[39m\u001b[38;5;241m.\u001b[39m_request(command_info[\u001b[38;5;241m0\u001b[39m], url, body\u001b[38;5;241m=\u001b[39mdata)\n",
      "File \u001b[1;32m~\\anaconda3\\envs\\python_learn\\lib\\site-packages\\selenium\\webdriver\\remote\\utils.py:24\u001b[0m, in \u001b[0;36mdump_json\u001b[1;34m(json_struct)\u001b[0m\n\u001b[0;32m     23\u001b[0m \u001b[38;5;28;01mdef\u001b[39;00m \u001b[38;5;21mdump_json\u001b[39m(json_struct: Any) \u001b[38;5;241m-\u001b[39m\u001b[38;5;241m>\u001b[39m \u001b[38;5;28mstr\u001b[39m:\n\u001b[1;32m---> 24\u001b[0m     \u001b[38;5;28;01mreturn\u001b[39;00m \u001b[43mjson\u001b[49m\u001b[38;5;241;43m.\u001b[39;49m\u001b[43mdumps\u001b[49m\u001b[43m(\u001b[49m\u001b[43mjson_struct\u001b[49m\u001b[43m)\u001b[49m\n",
      "File \u001b[1;32m~\\anaconda3\\envs\\python_learn\\lib\\json\\__init__.py:231\u001b[0m, in \u001b[0;36mdumps\u001b[1;34m(obj, skipkeys, ensure_ascii, check_circular, allow_nan, cls, indent, separators, default, sort_keys, **kw)\u001b[0m\n\u001b[0;32m    226\u001b[0m \u001b[38;5;66;03m# cached encoder\u001b[39;00m\n\u001b[0;32m    227\u001b[0m \u001b[38;5;28;01mif\u001b[39;00m (\u001b[38;5;129;01mnot\u001b[39;00m skipkeys \u001b[38;5;129;01mand\u001b[39;00m ensure_ascii \u001b[38;5;129;01mand\u001b[39;00m\n\u001b[0;32m    228\u001b[0m     check_circular \u001b[38;5;129;01mand\u001b[39;00m allow_nan \u001b[38;5;129;01mand\u001b[39;00m\n\u001b[0;32m    229\u001b[0m     \u001b[38;5;28mcls\u001b[39m \u001b[38;5;129;01mis\u001b[39;00m \u001b[38;5;28;01mNone\u001b[39;00m \u001b[38;5;129;01mand\u001b[39;00m indent \u001b[38;5;129;01mis\u001b[39;00m \u001b[38;5;28;01mNone\u001b[39;00m \u001b[38;5;129;01mand\u001b[39;00m separators \u001b[38;5;129;01mis\u001b[39;00m \u001b[38;5;28;01mNone\u001b[39;00m \u001b[38;5;129;01mand\u001b[39;00m\n\u001b[0;32m    230\u001b[0m     default \u001b[38;5;129;01mis\u001b[39;00m \u001b[38;5;28;01mNone\u001b[39;00m \u001b[38;5;129;01mand\u001b[39;00m \u001b[38;5;129;01mnot\u001b[39;00m sort_keys \u001b[38;5;129;01mand\u001b[39;00m \u001b[38;5;129;01mnot\u001b[39;00m kw):\n\u001b[1;32m--> 231\u001b[0m     \u001b[38;5;28;01mreturn\u001b[39;00m \u001b[43m_default_encoder\u001b[49m\u001b[38;5;241;43m.\u001b[39;49m\u001b[43mencode\u001b[49m\u001b[43m(\u001b[49m\u001b[43mobj\u001b[49m\u001b[43m)\u001b[49m\n\u001b[0;32m    232\u001b[0m \u001b[38;5;28;01mif\u001b[39;00m \u001b[38;5;28mcls\u001b[39m \u001b[38;5;129;01mis\u001b[39;00m \u001b[38;5;28;01mNone\u001b[39;00m:\n\u001b[0;32m    233\u001b[0m     \u001b[38;5;28mcls\u001b[39m \u001b[38;5;241m=\u001b[39m JSONEncoder\n",
      "File \u001b[1;32m~\\anaconda3\\envs\\python_learn\\lib\\json\\encoder.py:199\u001b[0m, in \u001b[0;36mJSONEncoder.encode\u001b[1;34m(self, o)\u001b[0m\n\u001b[0;32m    195\u001b[0m         \u001b[38;5;28;01mreturn\u001b[39;00m encode_basestring(o)\n\u001b[0;32m    196\u001b[0m \u001b[38;5;66;03m# This doesn't pass the iterator directly to ''.join() because the\u001b[39;00m\n\u001b[0;32m    197\u001b[0m \u001b[38;5;66;03m# exceptions aren't as detailed.  The list call should be roughly\u001b[39;00m\n\u001b[0;32m    198\u001b[0m \u001b[38;5;66;03m# equivalent to the PySequence_Fast that ''.join() would do.\u001b[39;00m\n\u001b[1;32m--> 199\u001b[0m chunks \u001b[38;5;241m=\u001b[39m \u001b[38;5;28;43mself\u001b[39;49m\u001b[38;5;241;43m.\u001b[39;49m\u001b[43miterencode\u001b[49m\u001b[43m(\u001b[49m\u001b[43mo\u001b[49m\u001b[43m,\u001b[49m\u001b[43m \u001b[49m\u001b[43m_one_shot\u001b[49m\u001b[38;5;241;43m=\u001b[39;49m\u001b[38;5;28;43;01mTrue\u001b[39;49;00m\u001b[43m)\u001b[49m\n\u001b[0;32m    200\u001b[0m \u001b[38;5;28;01mif\u001b[39;00m \u001b[38;5;129;01mnot\u001b[39;00m \u001b[38;5;28misinstance\u001b[39m(chunks, (\u001b[38;5;28mlist\u001b[39m, \u001b[38;5;28mtuple\u001b[39m)):\n\u001b[0;32m    201\u001b[0m     chunks \u001b[38;5;241m=\u001b[39m \u001b[38;5;28mlist\u001b[39m(chunks)\n",
      "File \u001b[1;32m~\\anaconda3\\envs\\python_learn\\lib\\json\\encoder.py:257\u001b[0m, in \u001b[0;36mJSONEncoder.iterencode\u001b[1;34m(self, o, _one_shot)\u001b[0m\n\u001b[0;32m    252\u001b[0m \u001b[38;5;28;01melse\u001b[39;00m:\n\u001b[0;32m    253\u001b[0m     _iterencode \u001b[38;5;241m=\u001b[39m _make_iterencode(\n\u001b[0;32m    254\u001b[0m         markers, \u001b[38;5;28mself\u001b[39m\u001b[38;5;241m.\u001b[39mdefault, _encoder, \u001b[38;5;28mself\u001b[39m\u001b[38;5;241m.\u001b[39mindent, floatstr,\n\u001b[0;32m    255\u001b[0m         \u001b[38;5;28mself\u001b[39m\u001b[38;5;241m.\u001b[39mkey_separator, \u001b[38;5;28mself\u001b[39m\u001b[38;5;241m.\u001b[39mitem_separator, \u001b[38;5;28mself\u001b[39m\u001b[38;5;241m.\u001b[39msort_keys,\n\u001b[0;32m    256\u001b[0m         \u001b[38;5;28mself\u001b[39m\u001b[38;5;241m.\u001b[39mskipkeys, _one_shot)\n\u001b[1;32m--> 257\u001b[0m \u001b[38;5;28;01mreturn\u001b[39;00m \u001b[43m_iterencode\u001b[49m\u001b[43m(\u001b[49m\u001b[43mo\u001b[49m\u001b[43m,\u001b[49m\u001b[43m \u001b[49m\u001b[38;5;241;43m0\u001b[39;49m\u001b[43m)\u001b[49m\n",
      "File \u001b[1;32m~\\anaconda3\\envs\\python_learn\\lib\\json\\encoder.py:179\u001b[0m, in \u001b[0;36mJSONEncoder.default\u001b[1;34m(self, o)\u001b[0m\n\u001b[0;32m    160\u001b[0m \u001b[38;5;28;01mdef\u001b[39;00m \u001b[38;5;21mdefault\u001b[39m(\u001b[38;5;28mself\u001b[39m, o):\n\u001b[0;32m    161\u001b[0m \u001b[38;5;250m    \u001b[39m\u001b[38;5;124;03m\"\"\"Implement this method in a subclass such that it returns\u001b[39;00m\n\u001b[0;32m    162\u001b[0m \u001b[38;5;124;03m    a serializable object for ``o``, or calls the base implementation\u001b[39;00m\n\u001b[0;32m    163\u001b[0m \u001b[38;5;124;03m    (to raise a ``TypeError``).\u001b[39;00m\n\u001b[1;32m   (...)\u001b[0m\n\u001b[0;32m    177\u001b[0m \n\u001b[0;32m    178\u001b[0m \u001b[38;5;124;03m    \"\"\"\u001b[39;00m\n\u001b[1;32m--> 179\u001b[0m     \u001b[38;5;28;01mraise\u001b[39;00m \u001b[38;5;167;01mTypeError\u001b[39;00m(\u001b[38;5;124mf\u001b[39m\u001b[38;5;124m'\u001b[39m\u001b[38;5;124mObject of type \u001b[39m\u001b[38;5;132;01m{\u001b[39;00mo\u001b[38;5;241m.\u001b[39m\u001b[38;5;18m__class__\u001b[39m\u001b[38;5;241m.\u001b[39m\u001b[38;5;18m__name__\u001b[39m\u001b[38;5;132;01m}\u001b[39;00m\u001b[38;5;124m \u001b[39m\u001b[38;5;124m'\u001b[39m\n\u001b[0;32m    180\u001b[0m                     \u001b[38;5;124mf\u001b[39m\u001b[38;5;124m'\u001b[39m\u001b[38;5;124mis not JSON serializable\u001b[39m\u001b[38;5;124m'\u001b[39m)\n",
      "\u001b[1;31mTypeError\u001b[0m: Object of type Tag is not JSON serializable"
     ]
    }
   ],
   "source": [
    "issueHistory = soup.find(\"input\", id='Lotto649Control_history_radYM')\n",
    "if issueHistory:\n",
    "    driver.execute_script(\"arguments[0].click();\", issueHistory)"
   ]
  },
  {
   "cell_type": "code",
   "execution_count": 135,
   "id": "a29fae9b",
   "metadata": {},
   "outputs": [],
   "source": [
    "issueHistory = driver.find_element(by=By.ID, value=\"Lotto649Control_history_radYM\")\n",
    "\n",
    "if issueHistory:\n",
    "    issueHistory.click()\n",
    "    "
   ]
  },
  {
   "cell_type": "code",
   "execution_count": 137,
   "id": "0d894cda",
   "metadata": {},
   "outputs": [
    {
     "name": "stdout",
     "output_type": "stream",
     "text": [
      "103\n",
      "104\n",
      "105\n",
      "106\n",
      "107\n",
      "108\n",
      "109\n",
      "110\n",
      "111\n",
      "112\n",
      "1\n",
      "2\n",
      "3\n",
      "4\n",
      "5\n",
      "6\n",
      "7\n",
      "8\n",
      "9\n",
      "10\n",
      "11\n",
      "12\n"
     ]
    }
   ],
   "source": [
    "issueHistoryYearDropDown = driver.find_element(by=By.ID, value=\"Lotto649Control_history_dropYear\")\n",
    "issueHistoryYear = Select(issueHistoryYearDropDown)\n",
    "issueHistoryYearOptions = issueHistoryYear.options\n",
    "for option in issueHistoryYearOptions:\n",
    "    print(option.get_attribute('value'))\n",
    "    \n",
    "issueHistoryMonthDropDown = driver.find_element(by=By.ID, value=\"Lotto649Control_history_dropMonth\")\n",
    "issueHistoryMonth = Select(issueHistoryMonthDropDown)\n",
    "issueHistoryMonthOptions = issueHistoryMonth.options\n",
    "for option in issueHistoryMonthOptions:\n",
    "    print(option.get_attribute('value'))"
   ]
  },
  {
   "cell_type": "code",
   "execution_count": 139,
   "id": "a50af1db",
   "metadata": {},
   "outputs": [
    {
     "name": "stdout",
     "output_type": "stream",
     "text": [
      "112 年 10 月 查無資料\n"
     ]
    }
   ],
   "source": [
    "issueHistoryYearDropDown = driver.find_element(by=By.ID, value=\"Lotto649Control_history_dropYear\")\n",
    "issueHistoryYear = Select(issueHistoryYearDropDown)\n",
    "issueHistoryYearOptions = issueHistoryYear.options\n",
    "issueHistoryMonthDropDown = driver.find_element(by=By.ID, value=\"Lotto649Control_history_dropMonth\")\n",
    "issueHistoryMonth = Select(issueHistoryMonthDropDown)\n",
    "issueHistoryMonthOptions = issueHistoryMonth.options\n",
    "\n",
    "if issueHistoryYearDropDown:\n",
    "    \n",
    "    for yearIndex in range(9, len(issueHistoryYearOptions)):\n",
    "        issueHistoryYear.select_by_index(yearIndex)\n",
    "        time.sleep(1)\n",
    "        \n",
    "        for monthIndex in range(0, len(issueHistoryMonthOptions)):\n",
    "            issueHistoryMonth.select_by_index(monthIndex)\n",
    "            \n",
    "            issueSearch = driver.find_element(by=By.ID, value=\"Lotto649Control_history_btnSubmit\")\n",
    "            issueSearch.click()\n",
    "            time.sleep(3)\n",
    "            \n",
    "            exist = driver.find_element(by=By.ID, value=\"Lotto649Control_history_Label1\")\n",
    "            existText = exist.text\n",
    "            \n",
    "            issueHistoryYearDropDown = driver.find_element(by=By.ID, value=\"Lotto649Control_history_dropYear\")\n",
    "            issueHistoryYear = Select(issueHistoryYearDropDown)\n",
    "            issueHistoryYearOptions = issueHistoryYear.options\n",
    "            issueHistoryMonthDropDown = driver.find_element(by=By.ID, value=\"Lotto649Control_history_dropMonth\")\n",
    "            issueHistoryMonth = Select(issueHistoryMonthDropDown)\n",
    "            issueHistoryMonthOptions = issueHistoryMonth.options\n",
    "            \n",
    "            if existText:\n",
    "                print(issueHistoryYearOptions[yearIndex].get_attribute('value'),\"年\",\n",
    "                      issueHistoryMonthOptions[monthIndex].get_attribute('value'), \"月\", existText)\n",
    "                break"
   ]
  },
  {
   "cell_type": "code",
   "execution_count": 122,
   "id": "089a8d31",
   "metadata": {},
   "outputs": [
    {
     "data": {
      "text/html": [
       "<div>\n",
       "<style scoped>\n",
       "    .dataframe tbody tr th:only-of-type {\n",
       "        vertical-align: middle;\n",
       "    }\n",
       "\n",
       "    .dataframe tbody tr th {\n",
       "        vertical-align: top;\n",
       "    }\n",
       "\n",
       "    .dataframe thead th {\n",
       "        text-align: right;\n",
       "    }\n",
       "</style>\n",
       "<table border=\"1\" class=\"dataframe\">\n",
       "  <thead>\n",
       "    <tr style=\"text-align: right;\">\n",
       "      <th></th>\n",
       "      <th>期別</th>\n",
       "      <th>開獎日</th>\n",
       "      <th>銷售金額</th>\n",
       "      <th>獎金總額</th>\n",
       "      <th>獎號</th>\n",
       "      <th>特別號</th>\n",
       "      <th>頭獎中獎注數</th>\n",
       "      <th>貳獎中獎注數</th>\n",
       "      <th>參獎中獎注數</th>\n",
       "      <th>肆獎中獎注數</th>\n",
       "      <th>...</th>\n",
       "      <th>參獎單注獎金</th>\n",
       "      <th>肆獎單注獎金</th>\n",
       "      <th>伍獎單注獎金</th>\n",
       "      <th>陸獎單注獎金</th>\n",
       "      <th>柒獎單注獎金</th>\n",
       "      <th>普獎單注獎金</th>\n",
       "      <th>頭獎累至次期獎金</th>\n",
       "      <th>貳獎累至次期獎金</th>\n",
       "      <th>參獎累至次期獎金</th>\n",
       "      <th>肆獎累至次期獎金</th>\n",
       "    </tr>\n",
       "  </thead>\n",
       "  <tbody>\n",
       "  </tbody>\n",
       "</table>\n",
       "<p>0 rows × 26 columns</p>\n",
       "</div>"
      ],
      "text/plain": [
       "Empty DataFrame\n",
       "Columns: [期別, 開獎日, 銷售金額, 獎金總額, 獎號, 特別號, 頭獎中獎注數, 貳獎中獎注數, 參獎中獎注數, 肆獎中獎注數, 伍獎中獎注數, 陸獎中獎注數, 柒獎中獎注數, 普獎中獎注數, 頭獎單注獎金, 貳獎單注獎金, 參獎單注獎金, 肆獎單注獎金, 伍獎單注獎金, 陸獎單注獎金, 柒獎單注獎金, 普獎單注獎金, 頭獎累至次期獎金, 貳獎累至次期獎金, 參獎累至次期獎金, 肆獎累至次期獎金]\n",
       "Index: []\n",
       "\n",
       "[0 rows x 26 columns]"
      ]
     },
     "execution_count": 122,
     "metadata": {},
     "output_type": "execute_result"
    }
   ],
   "source": [
    "df = pd.DataFrame(columns=['期別', '開獎日', '銷售金額', '獎金總額', '獎號', '特別號',\n",
    "                          '頭獎中獎注數', '貳獎中獎注數', '參獎中獎注數', '肆獎中獎注數',\n",
    "                           '伍獎中獎注數', '陸獎中獎注數', '柒獎中獎注數', '普獎中獎注數',\n",
    "                          '頭獎單注獎金', '貳獎單注獎金', '參獎單注獎金', '肆獎單注獎金',\n",
    "                           '伍獎單注獎金', '陸獎單注獎金', '柒獎單注獎金', '普獎單注獎金', \n",
    "                           '頭獎累至次期獎金', '貳獎累至次期獎金', '參獎累至次期獎金', '肆獎累至次期獎金'])\n",
    "df"
   ]
  },
  {
   "cell_type": "code",
   "execution_count": null,
   "id": "44b1d3ce",
   "metadata": {},
   "outputs": [],
   "source": [
    "issueHistoryYear.select_by_index(0)\n",
    "issueHistoryYear.select_by_visible_text('选项文本')\n",
    "issueHistoryYear.select_by_value('option_value')"
   ]
  },
  {
   "cell_type": "code",
   "execution_count": null,
   "id": "cacdbf48",
   "metadata": {},
   "outputs": [],
   "source": [
    "issueHistoryMonth.select_by_index(2)\n",
    "issueHistoryMonth.select_by_visible_text('选项文本')\n",
    "issueHistoryMonth.select_by_value('option_value')"
   ]
  },
  {
   "cell_type": "code",
   "execution_count": 132,
   "id": "d01560cd",
   "metadata": {},
   "outputs": [],
   "source": [
    "if __name__ == '__main__':\n",
    "    visit()"
   ]
  },
  {
   "cell_type": "code",
   "execution_count": 10,
   "id": "1003e5ae",
   "metadata": {},
   "outputs": [],
   "source": [
    "driver.quit()"
   ]
  },
  {
   "cell_type": "code",
   "execution_count": null,
   "id": "b12137d7",
   "metadata": {},
   "outputs": [],
   "source": [
    "#Lotto649Control_history_dlQuery_No1_0\n",
    "#Lotto649Control_history_dlQuery_No2_0"
   ]
  }
 ],
 "metadata": {
  "kernelspec": {
   "display_name": "python_learn",
   "language": "python",
   "name": "python_learn"
  },
  "language_info": {
   "codemirror_mode": {
    "name": "ipython",
    "version": 3
   },
   "file_extension": ".py",
   "mimetype": "text/x-python",
   "name": "python",
   "nbconvert_exporter": "python",
   "pygments_lexer": "ipython3",
   "version": "3.10.11"
  }
 },
 "nbformat": 4,
 "nbformat_minor": 5
}
